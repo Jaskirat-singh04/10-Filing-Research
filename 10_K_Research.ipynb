{
  "cells": [
    {
      "cell_type": "markdown",
      "source": [
        "# SEC 10-K Filings Analysis\n",
        "\n",
        "### This project aims to analyze the 10-K filings of a company (in this case, Microsoft) to extract insights related to revenue, debt, and management perspectives. Additionally, it calculates a risk score based on these factors for each year and visualizes the risk scores over time.\n",
        "\n",
        "### Reason For choosing Risk score for Insight:\n",
        "\n",
        "* ### Comprehensive Assessment: Provides a holistic evaluation of financial health and operational outlook.\n",
        "* ### Quantitative Measurement: Offers a numerical value for easy comparison and trend analysis.\n",
        "* ### Decision Support: Assists investors and company management in decision-making processes.\n",
        "\n",
        "\n",
        "---\n",
        "\n"
      ],
      "metadata": {
        "id": "mDzCFvyKUiQf"
      }
    },
    {
      "cell_type": "markdown",
      "source": [
        "### Downloading necessary packages"
      ],
      "metadata": {
        "id": "lG2Lefv8FzGN"
      }
    },
    {
      "cell_type": "code",
      "execution_count": 4,
      "metadata": {
        "id": "Hcnf2Dn3e4u2"
      },
      "outputs": [],
      "source": [
        "!pip install sec-edgar-downloader"
      ]
    },
    {
      "cell_type": "code",
      "execution_count": null,
      "metadata": {
        "id": "ZbABgHwWmpZZ"
      },
      "outputs": [],
      "source": [
        "!pip install -q -U google-generativeai"
      ]
    },
    {
      "cell_type": "code",
      "source": [],
      "metadata": {
        "id": "qJMtoIyRU3JD"
      },
      "execution_count": null,
      "outputs": []
    },
    {
      "cell_type": "markdown",
      "source": [
        "### Function to download 10-k filings of a company using Sec-edgar"
      ],
      "metadata": {
        "id": "Id7rDFTvFkt8"
      }
    },
    {
      "cell_type": "code",
      "execution_count": null,
      "metadata": {
        "id": "CY6RaDoYgFqr"
      },
      "outputs": [],
      "source": [
        "\n",
        "from sec_edgar_downloader import Downloader\n",
        "\n",
        "def download_10k(ticker):\n",
        "  \"\"\"Downloads a 10-K filing for a company and year.\n",
        "\n",
        "  Args:\n",
        "      ticker: The company ticker symbol.\n",
        "  \"\"\"\n",
        "  dl = Downloader(\"Sasefied\", \"singh.kirat.0409@gmail.com\")\n",
        "  filings = dl.get('10-K',ticker, download_details=False, after='1995-01-01', before='2023-12-31')\n",
        "  print(\"<----------------------------Download completed----------------------------->\")\n",
        "\n"
      ]
    },
    {
      "cell_type": "code",
      "execution_count": null,
      "metadata": {
        "colab": {
          "base_uri": "https://localhost:8080/"
        },
        "id": "LfEs6coOgRqR",
        "outputId": "4423e9df-f3aa-4532-b36a-d013267c96c6"
      },
      "outputs": [
        {
          "output_type": "stream",
          "name": "stdout",
          "text": [
            "<----------------------------Download completed----------------------------->\n",
            "<----------------------------Download completed----------------------------->\n"
          ]
        }
      ],
      "source": [
        "tickers=[\"MSFT\",\"V\"]\n",
        "# ticker = input(\"Enter company ticker: \")\n",
        "for ticker in tickers:\n",
        "  download_10k(ticker)\n"
      ]
    },
    {
      "cell_type": "markdown",
      "source": [
        "### This function is to clean the 10-k filings... This was the most complex task! I tried html parser and Beautiful Soup  but still there was alot of noisy data (HTML TAGS/ SPECIAL CHARAVCTERS). But using this algorithm and Regex I got completely clean data."
      ],
      "metadata": {
        "id": "qZhRn4maFrF9"
      }
    },
    {
      "cell_type": "code",
      "execution_count": 3,
      "metadata": {
        "id": "mpdadaSFpVmC"
      },
      "outputs": [],
      "source": [
        "import os\n",
        "import re\n",
        "from bs4 import BeautifulSoup\n",
        "\n",
        "\n",
        "def auto_parse(html_content):\n",
        "    cleaned_text = re.search(r'(?s)(?m)<TYPE>10-K.*?(</TEXT>)', html_content)\n",
        "    if cleaned_text:\n",
        "        cleaned_text = cleaned_text.group()\n",
        "        cleaned_text = re.sub(r'((?i)<TYPE>).*?(?=<)', '', cleaned_text)\n",
        "        cleaned_text = re.sub(r'((?i)<SEQUENCE>).*?(?=<)', '', cleaned_text)\n",
        "        cleaned_text = re.sub(r'((?i)<FILENAME>).*?(?=<)', '', cleaned_text)\n",
        "        cleaned_text = re.sub(r'((?i)<DESCRIPTION>).*?(?=<)', '', cleaned_text)\n",
        "        cleaned_text = re.sub(r'(?s)(?i)<head>.*?</head>', '', cleaned_text)\n",
        "        cleaned_text = re.sub(r'(?s)(?i)<(table).*?(</table>)', '', cleaned_text)\n",
        "        cleaned_text = re.sub(r'(?s)(?i)(?m)> +Item|>Item|^Item', '>°Item', cleaned_text)\n",
        "        cleaned_text = re.sub(r'(?s)<.*?>', ' ', cleaned_text)\n",
        "        cleaned_text = re.sub(r'&(.{2,6});', ' ', cleaned_text)\n",
        "        cleaned_text = re.sub(r'(?s) +', ' ', cleaned_text)\n",
        "        return cleaned_text\n",
        "    else:\n",
        "        return None\n",
        "\n",
        "def clean_document(file_path, output_directory):\n",
        "    with open(file_path, 'r', encoding='utf-8') as file:\n",
        "        html_content = file.read()\n",
        "\n",
        "    cleaned_text = auto_parse(html_content)\n",
        "    if cleaned_text:\n",
        "        parent_folder_name = os.path.basename(os.path.dirname(file_path))\n",
        "        output_file_path = os.path.join(output_directory, f'cleaned_{parent_folder_name}.txt')\n",
        "        with open(output_file_path, 'w', encoding='utf-8') as output_file:\n",
        "            output_file.write(cleaned_text)\n",
        "        print(f'Cleaned text saved to {output_file_path}')\n",
        "    else:\n",
        "        print(f'Error: No 10-K text found in {file_path}')\n",
        "\n",
        "# Root directory containing all the folders\n",
        "root_directory = 'sec-edgar-filings/MSFT'\n",
        "\n",
        "# Specify the output directory for cleaned files\n",
        "output_directory = 'cleaned_10k_files'\n",
        "os.makedirs(output_directory, exist_ok=True)\n",
        "\n",
        "# Loop through all folders and files in the root directory\n",
        "for folder_name, subfolders, filenames in os.walk(root_directory):\n",
        "    for filename in filenames:\n",
        "        file_path = os.path.join(folder_name, filename)\n",
        "        if os.path.isfile(file_path) and filename.endswith('.txt'):  # Ensure it's a text file\n",
        "            clean_document(file_path, output_directory)\n"
      ]
    },
    {
      "cell_type": "markdown",
      "source": [
        "### This code is to check the total words in each file.\n",
        "   Reason:- Due to limited context window of LLM via an API call... Generally 1500-1600 words words works well for 1 api call."
      ],
      "metadata": {
        "id": "DiiSYzSFGHQy"
      }
    },
    {
      "cell_type": "code",
      "execution_count": 2,
      "metadata": {
        "id": "QvOcsEH3Ruox"
      },
      "outputs": [],
      "source": [
        "import os\n",
        "\n",
        "\n",
        "# folder containing the 10-K filings\n",
        "folder_path = 'cleaned_10k_files/'\n",
        "\n",
        "# List to store file paths and their word counts\n",
        "file_word_counts = []\n",
        "\n",
        "#  Folders and files in the root directory\n",
        "for folder_name, _, filenames in os.walk(folder_path):\n",
        "    for filename in filenames:\n",
        "        if filename.endswith('.txt'):\n",
        "            file_path = os.path.join(folder_name, filename)\n",
        "            with open(file_path, 'r') as f:\n",
        "                contents = f.read()\n",
        "                words = contents.split()\n",
        "                num_words = len(words)\n",
        "                file_word_counts.append((file_path, num_words))\n",
        "\n",
        "# Sort file_word_counts based on word counts\n",
        "file_word_counts.sort(key=lambda x: x[1])\n",
        "\n",
        "# Print file paths and their word counts in ascending order\n",
        "for file_path, num_words in file_word_counts:\n",
        "    print(f'{file_path}: Total words = {num_words}')\n"
      ]
    },
    {
      "cell_type": "markdown",
      "source": [
        "###  I have used Gemini as the LLM\n",
        "Reason- It's free, comparitevely fast and generates good results."
      ],
      "metadata": {
        "id": "BcHQEAvCGRfy"
      }
    },
    {
      "cell_type": "code",
      "execution_count": null,
      "metadata": {
        "id": "EH3KmE1amplU"
      },
      "outputs": [],
      "source": [
        "\n",
        "import google.generativeai as genai\n",
        "GOOGLE_API_KEY=\"\"\n",
        "\n",
        "genai.configure(api_key=GOOGLE_API_KEY)\n",
        "model = genai.GenerativeModel('gemini-pro')"
      ]
    },
    {
      "cell_type": "markdown",
      "source": [
        "### Due to the context window limitation and the average file size of 20,000 words, it was not feasible to process the complete 10-K filing for a given year in a single pass. To address this challenge, the files were split into batches of 1,500 words each, and insights were generated for each batch. The insights from all batches were then saved in a single output file for a particular year, and this process was repeated for each year. Additionally, there was a limitation of making no more than 60 API calls per minute, necessitating a one-minute delay before making another set of 60 API calls.\n",
        "\n",
        "### As the complete file was broken down into sections, there were inevitably many sections or batches that did not contain relevant insights. These sections were excluded because they followed a specific pattern. Finally, all the cleaned insights for each year were saved in the cleaned_output_files directory."
      ],
      "metadata": {
        "id": "cw_m2bbrGZ-h"
      }
    },
    {
      "cell_type": "code",
      "execution_count": 1,
      "metadata": {
        "id": "z6lH6uFy7aoB"
      },
      "outputs": [],
      "source": [
        "\n",
        "import os\n",
        "import re\n",
        "import time\n",
        "\n",
        "# LLM Function to generate insights\n",
        "def generate_responses(text):\n",
        "    prompt = f\"Act as an professional 10-k filings expert and your task is to extract important information and insights which could be very useful for a user. Focus on revenue, debt like revenue in given year, Debt in given year and management insights in short bullets point. AVOID HALUCINATION IF INFORMATION IS INCOMPLETE AND MAKE NO SENSE, IN THAT CASE AVOID GIVING INSIGHTS\"\n",
        "\n",
        "    try:\n",
        "        # used this try block to capture such cases where api calls get blocked due to content restrictions. It usually happens with Gemini and LLM in general.\n",
        "        results = model.generate_content(prompt + text)\n",
        "        return results.text\n",
        "    except ValueError as e:\n",
        "        print(f\"Error generating response: {e}\")\n",
        "        return None\n",
        "\n",
        "def split_into_sections(text, words_per_section=1500):\n",
        "    words = re.findall(r'\\b\\w+\\b', text)  # Tokenize text into words\n",
        "    sections = []\n",
        "    for i in range(0, len(words), words_per_section):\n",
        "        section_words = words[i:i+words_per_section]\n",
        "        section_text = ' '.join(section_words)\n",
        "        sections.append({\"section_number\": i // words_per_section + 1, \"text\": section_text})\n",
        "    return sections\n",
        "# directory containing the cleaned files\n",
        "cleaned_directory = 'cleaned_10k_files/'\n",
        "\n",
        "\n",
        "files = [file for file in os.listdir(cleaned_directory) if os.path.isfile(os.path.join(cleaned_directory, file))]\n",
        "\n",
        "\n",
        "# Sort the files to ensure consistent order\n",
        "files.sort()\n",
        "\n",
        "# Initialize API call counter\n",
        "api_calls = 0\n",
        "\n",
        "# Define excluded phrases\n",
        "exclude_phrases = [\"i cannot provide\", \"Unable to provide insights\", \"I apologize\", \"i am unable to provide\", \"i apologise\", \"i regret\", \"i am sorry\", \"I'm sorry\", \"i cannot generate\", \"The context does not provide\", \"I cannot find the required\", \"I can't extract\", \" document does not contain\"]\n",
        "\n",
        "# Create output directory if it does not exist\n",
        "output_directory = 'cleaned_output_files'\n",
        "if not os.path.exists(output_directory):\n",
        "    os.makedirs(output_directory)\n",
        "\n",
        "# Iterate through each file\n",
        "for file_name in files:\n",
        "    file_path = os.path.join(cleaned_directory, file_name)\n",
        "\n",
        "    # Read the content of the file\n",
        "    with open(file_path, 'r', encoding='utf-8') as file:\n",
        "        data = file.read()\n",
        "\n",
        "    # Split the document into smaller sections after every 1500 words\n",
        "    sections = split_into_sections(data)\n",
        "\n",
        "    # Generate insights for each section\n",
        "    responses = []\n",
        "    for section in sections:\n",
        "        # Check if API call limit is reached\n",
        "        if api_calls >= 60:\n",
        "            print(\"API call limit reached. Waiting for 1 minute...\")\n",
        "            time.sleep(60)  # Wait for 1 minute\n",
        "            api_calls = 0  # Reset API call counter\n",
        "\n",
        "        response = generate_responses(section['text'])\n",
        "        if response is not None:\n",
        "            responses.append(response)\n",
        "            api_calls += 1\n",
        "\n",
        "    # Save the relevant responses to a text file\n",
        "    relevant_responses = []\n",
        "    for i, response in enumerate(responses):\n",
        "        contains_exclude_phrase = any(phrase.lower() in response.lower() for phrase in exclude_phrases)\n",
        "        if not contains_exclude_phrase:\n",
        "            relevant_responses.append((i+1, response))\n",
        "\n",
        "    output_file_path = os.path.join(output_directory, f\"{file_name.split('.')[0]}_relevant_responses.txt\")\n",
        "    with open(output_file_path, 'w') as file:\n",
        "        for section_num, response in relevant_responses:\n",
        "            file.write(f\"Section {section_num} Insights:\\n\")\n",
        "            file.write(response)\n",
        "            file.write(\"\\n=========================\\n\")\n",
        "\n",
        "    print(f\"Relevant responses for {file_name} have been saved to '{output_file_path}'.\")\n"
      ]
    },
    {
      "cell_type": "markdown",
      "source": [
        "### The insight data contained duplicates and was not in a format suitable for direct access and plotting. Therefore, a large language model (LLM) was utilized to convert the data into the desired format, and the transformed data was saved in a new directory.\n"
      ],
      "metadata": {
        "id": "GIXFV2H9Ce05"
      }
    },
    {
      "cell_type": "code",
      "source": [
        "\n",
        "import os\n",
        "import glob\n",
        "\n",
        "def clean_responses(data):\n",
        "    # Your existing function implementation here\n",
        "    prompt = f'''The given content is very messy and duplicate data and have sections with no information.... your task is to only look for 3 things- revenue of that year(mention the year as well),\n",
        "    Debt in that year and 3 Managemnet insight (overall) and you have to give it a risk score on the basis of all 3 factors so your output should look like-\n",
        "    for Example-\n",
        "    Revenue in 2000- $20 billion\n",
        "    Debt in 2000- $ 1 bilion\n",
        "    Management insight in 2000- 3 points\n",
        "    Risk score in 2000- 10%\n",
        "\n",
        "    This is just the format values will change according to the content provided.\n",
        "    '''\n",
        "    # Pass sentences together\n",
        "    results= model.generate_content(prompt + data)\n",
        "    return results.text\n",
        "\n",
        "# Create result folder if not exists\n",
        "if not os.path.exists('result_new'):\n",
        "    os.makedirs('result_new')\n",
        "\n",
        "# Loop through each file in the cleaned_output_files folder\n",
        "for filename in glob.glob('cleaned_output_files/*.txt'):\n",
        "    with open(filename, 'r') as f:\n",
        "        data = f.read()\n",
        "\n",
        "    # Process the data\n",
        "    cleaned_data = clean_responses(data)\n",
        "\n",
        "    # Get the filename without extension\n",
        "    file_name_without_extension = os.path.splitext(os.path.basename(filename))[0]\n",
        "\n",
        "    # Save the result in the result folder with the same filename\n",
        "    result_file_path = os.path.join('result_new', f'{file_name_without_extension}_result.txt')\n",
        "    with open(result_file_path, 'w') as f:\n",
        "        f.write(cleaned_data)\n"
      ],
      "metadata": {
        "id": "nUhcPifSRc2Y"
      },
      "execution_count": null,
      "outputs": []
    },
    {
      "cell_type": "markdown",
      "source": [
        "### All the cleaned and well-formatted insight files were concatenated, and a function was employed to extract the risk score for each year using regular expressions. The extracted risk scores were then saved in a CSV file, which could be directly used for plotting."
      ],
      "metadata": {
        "id": "-iw9VMA5EESC"
      }
    },
    {
      "cell_type": "code",
      "source": [
        "import csv\n",
        "import re\n",
        "\n",
        "# Read the concatenated file\n",
        "concatenated_file_path = '/content/concatenated_output_all.txt'\n",
        "\n",
        "with open(concatenated_file_path, 'r') as file:\n",
        "    concatenated_content = file.read()\n",
        "\n",
        "# Define the regular expression pattern to match risk scores\n",
        "risk_score_pattern = r'Risk .*?(\\d{4}).*?- ?(\\d+/\\d+|\\d+%|\\d+\\.\\d+%|\\d+)'\n",
        "\n",
        "# Find all risk scores in the concatenated content\n",
        "risk_scores = re.findall(risk_score_pattern, concatenated_content)\n",
        "\n",
        "# Specify the CSV file path\n",
        "csv_file_path = '/content/risk_scores.csv'\n",
        "\n",
        "# Write the extracted data to a CSV file\n",
        "with open(csv_file_path, 'w', newline='') as csvfile:\n",
        "    # Create a CSV writer object\n",
        "    writer = csv.writer(csvfile)\n",
        "\n",
        "    # Write the header row\n",
        "    writer.writerow(['Year', 'Risk Score'])\n",
        "\n",
        "    # Write the extracted year and risk score pairs\n",
        "    for year, score in risk_scores:\n",
        "        writer.writerow([year, score])\n",
        "\n",
        "print(\"Data has been saved to:\", csv_file_path)\n"
      ],
      "metadata": {
        "colab": {
          "base_uri": "https://localhost:8080/"
        },
        "id": "dEvssurzxK7B",
        "outputId": "58c001f3-634b-483f-ce59-64845dbf292b"
      },
      "execution_count": null,
      "outputs": [
        {
          "output_type": "stream",
          "name": "stdout",
          "text": [
            "Data has been saved to: /content/risk_scores.csv\n"
          ]
        }
      ]
    },
    {
      "cell_type": "markdown",
      "source": [
        "### Finally, the risk scores were loaded, and a line graph was plotted to represent the risk percentage for each year by analyzing the management insights, revenue, debt, and sentiments."
      ],
      "metadata": {
        "id": "m12MUNuME4xA"
      }
    },
    {
      "cell_type": "code",
      "source": [
        "import pandas as pd\n",
        "import matplotlib.pyplot as plt\n",
        "\n",
        "# Read the CSV file into a pandas DataFrame\n",
        "df = pd.read_csv('risk_scores.csv')\n",
        "\n",
        "\n",
        "# Create the line graph\n",
        "plt.figure(figsize=(10, 6))\n",
        "plt.plot(df['Year'], df['Risk Score in %'], marker='o')\n",
        "plt.xlabel('Year')\n",
        "plt.ylabel('Risk Score (%)')\n",
        "plt.title('Risk Score Over Time')\n",
        "\n",
        "# Set y-axis ticks with equal intervals\n",
        "min_score = df['Risk Score in %'].min()\n",
        "max_score = df['Risk Score in %'].max()\n",
        "tick_interval = 5  # Set the interval for y-axis ticks\n",
        "plt.yticks(range(int(min_score), int(max_score) + tick_interval, tick_interval))\n",
        "\n",
        "plt.xticks(df['Year'].unique(), rotation=45)  # Show all unique years on the x-axis, rotated for better visibility\n",
        "plt.grid(True)\n",
        "plt.tight_layout()\n",
        "plt.show()\n"
      ],
      "metadata": {
        "colab": {
          "base_uri": "https://localhost:8080/",
          "height": 607
        },
        "id": "tKKpO73AMyA0",
        "outputId": "bb0824ba-1775-4263-f791-bbc4d9aa624f"
      },
      "execution_count": 51,
      "outputs": [
        {
          "output_type": "display_data",
          "data": {
            "text/plain": [
              "<Figure size 1000x600 with 1 Axes>"
            ],
            "image/png": "[encoded data removed]"
          },
          "metadata": {}
        }
      ]
    },
    {
      "cell_type": "markdown",
      "source": [
        "## My Analysis:\n",
        "\n",
        "### The analysis reveals high-risk scores in 1996, 2002/03, and 2009, indicating specific financial challenges faced by the company during those years. The high-risk score in 1996 suggests a period of elevated debt levels. The risk scores in 2002 and 2003 align with the dotcom bubble burst, implying potential losses and a slowdown in growth during those years. Similarly, the high-risk score in 2009 corresponds to the 2008 economic breakdown, which likely led to a decline in revenue. The ability of the large language model (LLM) to capture and highlight these financial events through elevated risk scores demonstrates its effectiveness in generating meaningful insights from the 10-K filings."
      ],
      "metadata": {
        "id": "-t6WRxd1ciRf"
      }
    },
    {
      "cell_type": "markdown",
      "source": [
        "## Challenges:\n",
        "\n",
        "\n",
        "* The solution lacks cost-effectiveness, as it requires making k×N API calls for K files and N batches for each file, in addition to K API calls for formatting the output.\n",
        "* Secondly, there were inconsistencies in the generated output from the large language model (LLM), making it even more difficult to automate the extraction of insights.\n",
        "* This process is still time-consuming, and the chances of hallucination (generating inaccurate or irrelevant information) from the LLM are high.\n"
      ],
      "metadata": {
        "id": "_mLmfTQtXoLX"
      }
    },
    {
      "cell_type": "markdown",
      "source": [
        "## Possible Solutions:\n",
        "\n",
        "\n",
        "*   One potential solution being considered is the implementation of a Retrieval-Augmented Generation (RAG) model to save costs, as it would eliminate the need for batch processing, thereby reducing the number of API calls required. Additionally, RAG could provide more specific information, reducing the likelihood of hallucination. However, since the 10-K filing data is unstructured, the retrieval performance would heavily depend on the query passed to the model. Therefore, a high-level mechanism needs to be devised, as RAG also has its limitations. Determining the top K results would also be a significant challenge.\n",
        "\n",
        "* Time and latency remain significant concerns, as the vectorization of such a large document requires substantial time and memory. Consequently, alternative approaches need to be explored to handle these issues effectively.\n",
        "\n",
        "\n",
        "\n"
      ],
      "metadata": {
        "id": "aqAM7OfdZrEI"
      }
    },
    {
      "cell_type": "markdown",
      "source": [
        "PS: I really enjoy the Ideation, Implementation and Execution of this assignment. It is one of the most Interesting thing I have done recently! Thankyou so much for this opportunity."
      ],
      "metadata": {
        "id": "AFpWbkk0b54s"
      }
    }
  ],
  "metadata": {
    "colab": {
      "provenance": []
    },
    "kernelspec": {
      "display_name": "Python 3",
      "name": "python3"
    },
    "language_info": {
      "name": "python"
    }
  },
  "nbformat": 4,
  "nbformat_minor": 0
}